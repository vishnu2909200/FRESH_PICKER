{
  "cells": [
    {
      "cell_type": "code",
      "execution_count": null,
      "metadata": {
        "id": "v83wjPphGt7k"
      },
      "outputs": [],
      "source": [
        "import tensorflow as tf\n",
        "from tensorflow.keras.models import Sequential\n",
        "from tensorflow.keras.layers import Conv2D, MaxPooling2D, Flatten, Dense\n",
        "from tensorflow.keras.preprocessing.image import ImageDataGenerator\n"
      ]
    },
    {
      "cell_type": "code",
      "execution_count": null,
      "metadata": {
        "id": "ka-n7nr_I65T"
      },
      "outputs": [],
      "source": [
        "from tensorflow.keras.preprocessing.image import ImageDataGenerator"
      ]
    },
    {
      "cell_type": "code",
      "execution_count": null,
      "metadata": {
        "colab": {
          "base_uri": "https://localhost:8080/",
          "height": 304
        },
        "id": "khxbgag_--CO",
        "outputId": "1ad2760a-83d8-42ad-9334-16473ecb96d3"
      },
      "outputs": [
        {
          "ename": "MessageError",
          "evalue": "Error: credential propagation was unsuccessful",
          "output_type": "error",
          "traceback": [
            "\u001b[0;31m---------------------------------------------------------------------------\u001b[0m",
            "\u001b[0;31mMessageError\u001b[0m                              Traceback (most recent call last)",
            "\u001b[0;32m<ipython-input-56-d5df0069828e>\u001b[0m in \u001b[0;36m<cell line: 2>\u001b[0;34m()\u001b[0m\n\u001b[1;32m      1\u001b[0m \u001b[0;32mfrom\u001b[0m \u001b[0mgoogle\u001b[0m\u001b[0;34m.\u001b[0m\u001b[0mcolab\u001b[0m \u001b[0;32mimport\u001b[0m \u001b[0mdrive\u001b[0m\u001b[0;34m\u001b[0m\u001b[0;34m\u001b[0m\u001b[0m\n\u001b[0;32m----> 2\u001b[0;31m \u001b[0mdrive\u001b[0m\u001b[0;34m.\u001b[0m\u001b[0mmount\u001b[0m\u001b[0;34m(\u001b[0m\u001b[0;34m'/content/drive'\u001b[0m\u001b[0;34m)\u001b[0m\u001b[0;34m\u001b[0m\u001b[0;34m\u001b[0m\u001b[0m\n\u001b[0m",
            "\u001b[0;32m/usr/local/lib/python3.10/dist-packages/google/colab/drive.py\u001b[0m in \u001b[0;36mmount\u001b[0;34m(mountpoint, force_remount, timeout_ms, readonly)\u001b[0m\n\u001b[1;32m     98\u001b[0m \u001b[0;32mdef\u001b[0m \u001b[0mmount\u001b[0m\u001b[0;34m(\u001b[0m\u001b[0mmountpoint\u001b[0m\u001b[0;34m,\u001b[0m \u001b[0mforce_remount\u001b[0m\u001b[0;34m=\u001b[0m\u001b[0;32mFalse\u001b[0m\u001b[0;34m,\u001b[0m \u001b[0mtimeout_ms\u001b[0m\u001b[0;34m=\u001b[0m\u001b[0;36m120000\u001b[0m\u001b[0;34m,\u001b[0m \u001b[0mreadonly\u001b[0m\u001b[0;34m=\u001b[0m\u001b[0;32mFalse\u001b[0m\u001b[0;34m)\u001b[0m\u001b[0;34m:\u001b[0m\u001b[0;34m\u001b[0m\u001b[0;34m\u001b[0m\u001b[0m\n\u001b[1;32m     99\u001b[0m   \u001b[0;34m\"\"\"Mount your Google Drive at the specified mountpoint path.\"\"\"\u001b[0m\u001b[0;34m\u001b[0m\u001b[0;34m\u001b[0m\u001b[0m\n\u001b[0;32m--> 100\u001b[0;31m   return _mount(\n\u001b[0m\u001b[1;32m    101\u001b[0m       \u001b[0mmountpoint\u001b[0m\u001b[0;34m,\u001b[0m\u001b[0;34m\u001b[0m\u001b[0;34m\u001b[0m\u001b[0m\n\u001b[1;32m    102\u001b[0m       \u001b[0mforce_remount\u001b[0m\u001b[0;34m=\u001b[0m\u001b[0mforce_remount\u001b[0m\u001b[0;34m,\u001b[0m\u001b[0;34m\u001b[0m\u001b[0;34m\u001b[0m\u001b[0m\n",
            "\u001b[0;32m/usr/local/lib/python3.10/dist-packages/google/colab/drive.py\u001b[0m in \u001b[0;36m_mount\u001b[0;34m(mountpoint, force_remount, timeout_ms, ephemeral, readonly)\u001b[0m\n\u001b[1;32m    131\u001b[0m   )\n\u001b[1;32m    132\u001b[0m   \u001b[0;32mif\u001b[0m \u001b[0mephemeral\u001b[0m\u001b[0;34m:\u001b[0m\u001b[0;34m\u001b[0m\u001b[0;34m\u001b[0m\u001b[0m\n\u001b[0;32m--> 133\u001b[0;31m     _message.blocking_request(\n\u001b[0m\u001b[1;32m    134\u001b[0m         \u001b[0;34m'request_auth'\u001b[0m\u001b[0;34m,\u001b[0m \u001b[0mrequest\u001b[0m\u001b[0;34m=\u001b[0m\u001b[0;34m{\u001b[0m\u001b[0;34m'authType'\u001b[0m\u001b[0;34m:\u001b[0m \u001b[0;34m'dfs_ephemeral'\u001b[0m\u001b[0;34m}\u001b[0m\u001b[0;34m,\u001b[0m \u001b[0mtimeout_sec\u001b[0m\u001b[0;34m=\u001b[0m\u001b[0;32mNone\u001b[0m\u001b[0;34m\u001b[0m\u001b[0;34m\u001b[0m\u001b[0m\n\u001b[1;32m    135\u001b[0m     )\n",
            "\u001b[0;32m/usr/local/lib/python3.10/dist-packages/google/colab/_message.py\u001b[0m in \u001b[0;36mblocking_request\u001b[0;34m(request_type, request, timeout_sec, parent)\u001b[0m\n\u001b[1;32m    174\u001b[0m       \u001b[0mrequest_type\u001b[0m\u001b[0;34m,\u001b[0m \u001b[0mrequest\u001b[0m\u001b[0;34m,\u001b[0m \u001b[0mparent\u001b[0m\u001b[0;34m=\u001b[0m\u001b[0mparent\u001b[0m\u001b[0;34m,\u001b[0m \u001b[0mexpect_reply\u001b[0m\u001b[0;34m=\u001b[0m\u001b[0;32mTrue\u001b[0m\u001b[0;34m\u001b[0m\u001b[0;34m\u001b[0m\u001b[0m\n\u001b[1;32m    175\u001b[0m   )\n\u001b[0;32m--> 176\u001b[0;31m   \u001b[0;32mreturn\u001b[0m \u001b[0mread_reply_from_input\u001b[0m\u001b[0;34m(\u001b[0m\u001b[0mrequest_id\u001b[0m\u001b[0;34m,\u001b[0m \u001b[0mtimeout_sec\u001b[0m\u001b[0;34m)\u001b[0m\u001b[0;34m\u001b[0m\u001b[0;34m\u001b[0m\u001b[0m\n\u001b[0m",
            "\u001b[0;32m/usr/local/lib/python3.10/dist-packages/google/colab/_message.py\u001b[0m in \u001b[0;36mread_reply_from_input\u001b[0;34m(message_id, timeout_sec)\u001b[0m\n\u001b[1;32m    101\u001b[0m     ):\n\u001b[1;32m    102\u001b[0m       \u001b[0;32mif\u001b[0m \u001b[0;34m'error'\u001b[0m \u001b[0;32min\u001b[0m \u001b[0mreply\u001b[0m\u001b[0;34m:\u001b[0m\u001b[0;34m\u001b[0m\u001b[0;34m\u001b[0m\u001b[0m\n\u001b[0;32m--> 103\u001b[0;31m         \u001b[0;32mraise\u001b[0m \u001b[0mMessageError\u001b[0m\u001b[0;34m(\u001b[0m\u001b[0mreply\u001b[0m\u001b[0;34m[\u001b[0m\u001b[0;34m'error'\u001b[0m\u001b[0;34m]\u001b[0m\u001b[0;34m)\u001b[0m\u001b[0;34m\u001b[0m\u001b[0;34m\u001b[0m\u001b[0m\n\u001b[0m\u001b[1;32m    104\u001b[0m       \u001b[0;32mreturn\u001b[0m \u001b[0mreply\u001b[0m\u001b[0;34m.\u001b[0m\u001b[0mget\u001b[0m\u001b[0;34m(\u001b[0m\u001b[0;34m'data'\u001b[0m\u001b[0;34m,\u001b[0m \u001b[0;32mNone\u001b[0m\u001b[0;34m)\u001b[0m\u001b[0;34m\u001b[0m\u001b[0;34m\u001b[0m\u001b[0m\n\u001b[1;32m    105\u001b[0m \u001b[0;34m\u001b[0m\u001b[0m\n",
            "\u001b[0;31mMessageError\u001b[0m: Error: credential propagation was unsuccessful"
          ]
        }
      ],
      "source": [
        "from google.colab import drive\n",
        "drive.mount('/content/drive')"
      ]
    },
    {
      "cell_type": "code",
      "execution_count": null,
      "metadata": {
        "id": "N41zx2ZlG282"
      },
      "outputs": [],
      "source": [
        "model = Sequential([\n",
        "    Conv2D(32, (3, 3), activation='relu', input_shape=(64, 64, 3)),\n",
        "    MaxPooling2D((2, 2)),\n",
        "    Conv2D(64, (3, 3), activation='relu'),\n",
        "    MaxPooling2D((2, 2)),\n",
        "    Flatten(),\n",
        "    Dense(64, activation='relu'),\n",
        "    Dense(46, activation='softmax')  # Adjust the output size according to your dataset\n",
        "])\n",
        "\n",
        "model.compile(optimizer='adam',\n",
        "              loss='categorical_crossentropy',\n",
        "              metrics=['accuracy'])\n"
      ]
    },
    {
      "cell_type": "code",
      "execution_count": null,
      "metadata": {
        "colab": {
          "base_uri": "https://localhost:8080/"
        },
        "id": "REuPnQseG2_n",
        "outputId": "9d3f7249-1ac6-45a0-da8f-578e1b76ad47"
      },
      "outputs": [
        {
          "output_type": "stream",
          "name": "stdout",
          "text": [
            "Found 10160 images belonging to 46 classes.\n"
          ]
        }
      ],
      "source": [
        "train_datagen = ImageDataGenerator(\n",
        "    rescale=1./255,\n",
        "    shear_range=0.2,\n",
        "    zoom_range=0.2,\n",
        "    horizontal_flip=True\n",
        ")\n",
        "\n",
        "test_datagen = ImageDataGenerator(rescale=1./255)\n",
        "\n",
        "train_generator = train_datagen.flow_from_directory(\n",
        "    '/content/drive/MyDrive/updated data set/Train',\n",
        "    target_size=(64, 64),\n",
        "    batch_size=32,\n",
        "    class_mode='categorical'\n",
        ")\n",
        "\n",
        "\n"
      ]
    },
    {
      "cell_type": "code",
      "execution_count": null,
      "metadata": {
        "colab": {
          "base_uri": "https://localhost:8080/"
        },
        "id": "ajWn4akGPgwX",
        "outputId": "eb5d622b-74f0-44cd-a1c9-1b4ffbb923a0"
      },
      "outputs": [
        {
          "output_type": "stream",
          "name": "stdout",
          "text": [
            "Found 1549 images belonging to 46 classes.\n"
          ]
        }
      ],
      "source": [
        "validation_generator = test_datagen.flow_from_directory(\n",
        "    '/content/drive/MyDrive/updated data set/Validation',\n",
        "    target_size=(64, 64),\n",
        "    batch_size=32,\n",
        "    class_mode='categorical'\n",
        ")"
      ]
    },
    {
      "cell_type": "code",
      "execution_count": null,
      "metadata": {
        "colab": {
          "base_uri": "https://localhost:8080/"
        },
        "id": "ZtWMa-eOG3Ch",
        "outputId": "8f7e08a9-9976-4fcb-b72b-28a9226531d8"
      },
      "outputs": [
        {
          "output_type": "stream",
          "name": "stdout",
          "text": [
            "Epoch 1/80\n",
            "317/317 [==============================] - 3962s 12s/step - loss: 2.9851 - accuracy: 0.2020 - val_loss: 2.8568 - val_accuracy: 0.2650\n",
            "Epoch 2/80\n",
            "317/317 [==============================] - 158s 497ms/step - loss: 2.2936 - accuracy: 0.3463 - val_loss: 2.3821 - val_accuracy: 0.3574\n",
            "Epoch 3/80\n",
            "317/317 [==============================] - 150s 471ms/step - loss: 1.9953 - accuracy: 0.4201 - val_loss: 2.3397 - val_accuracy: 0.3483\n",
            "Epoch 4/80\n",
            "317/317 [==============================] - 159s 501ms/step - loss: 1.8326 - accuracy: 0.4600 - val_loss: 2.3138 - val_accuracy: 0.3945\n",
            "Epoch 5/80\n",
            "317/317 [==============================] - 163s 514ms/step - loss: 1.7080 - accuracy: 0.4976 - val_loss: 2.0739 - val_accuracy: 0.4642\n",
            "Epoch 6/80\n",
            "317/317 [==============================] - 159s 501ms/step - loss: 1.6019 - accuracy: 0.5233 - val_loss: 2.1917 - val_accuracy: 0.4382\n",
            "Epoch 7/80\n",
            "317/317 [==============================] - 160s 504ms/step - loss: 1.5132 - accuracy: 0.5520 - val_loss: 1.9157 - val_accuracy: 0.5078\n",
            "Epoch 8/80\n",
            "317/317 [==============================] - 152s 479ms/step - loss: 1.4404 - accuracy: 0.5727 - val_loss: 1.9520 - val_accuracy: 0.4967\n",
            "Epoch 9/80\n",
            "317/317 [==============================] - 163s 515ms/step - loss: 1.3616 - accuracy: 0.5922 - val_loss: 1.8313 - val_accuracy: 0.5436\n",
            "Epoch 10/80\n",
            "317/317 [==============================] - 160s 503ms/step - loss: 1.3193 - accuracy: 0.6003 - val_loss: 1.9526 - val_accuracy: 0.5085\n",
            "Epoch 11/80\n",
            "317/317 [==============================] - 160s 504ms/step - loss: 1.2426 - accuracy: 0.6216 - val_loss: 1.9714 - val_accuracy: 0.5078\n",
            "Epoch 12/80\n",
            "317/317 [==============================] - 169s 531ms/step - loss: 1.2019 - accuracy: 0.6366 - val_loss: 1.8543 - val_accuracy: 0.5436\n",
            "Epoch 13/80\n",
            "317/317 [==============================] - 165s 520ms/step - loss: 1.1462 - accuracy: 0.6500 - val_loss: 1.7667 - val_accuracy: 0.5632\n",
            "Epoch 14/80\n",
            "317/317 [==============================] - 161s 509ms/step - loss: 1.1020 - accuracy: 0.6573 - val_loss: 1.8753 - val_accuracy: 0.5801\n",
            "Epoch 15/80\n",
            "317/317 [==============================] - 164s 516ms/step - loss: 1.0603 - accuracy: 0.6702 - val_loss: 1.6405 - val_accuracy: 0.5983\n",
            "Epoch 16/80\n",
            "317/317 [==============================] - 155s 490ms/step - loss: 1.0154 - accuracy: 0.6860 - val_loss: 1.7485 - val_accuracy: 0.5827\n",
            "Epoch 17/80\n",
            "317/317 [==============================] - 161s 506ms/step - loss: 0.9874 - accuracy: 0.6894 - val_loss: 1.7591 - val_accuracy: 0.6061\n",
            "Epoch 18/80\n",
            "317/317 [==============================] - 162s 511ms/step - loss: 0.9557 - accuracy: 0.6965 - val_loss: 1.6161 - val_accuracy: 0.6354\n",
            "Epoch 19/80\n",
            "317/317 [==============================] - 167s 525ms/step - loss: 0.9182 - accuracy: 0.7156 - val_loss: 1.7113 - val_accuracy: 0.6283\n",
            "Epoch 20/80\n",
            "317/317 [==============================] - 163s 514ms/step - loss: 0.8881 - accuracy: 0.7201 - val_loss: 1.6974 - val_accuracy: 0.6185\n",
            "Epoch 21/80\n",
            "317/317 [==============================] - 158s 498ms/step - loss: 0.8632 - accuracy: 0.7274 - val_loss: 1.7610 - val_accuracy: 0.6309\n",
            "Epoch 22/80\n",
            "317/317 [==============================] - 163s 513ms/step - loss: 0.8257 - accuracy: 0.7407 - val_loss: 1.6181 - val_accuracy: 0.6608\n",
            "Epoch 23/80\n",
            "317/317 [==============================] - 161s 508ms/step - loss: 0.8089 - accuracy: 0.7440 - val_loss: 1.7406 - val_accuracy: 0.6589\n",
            "Epoch 24/80\n",
            "317/317 [==============================] - 159s 500ms/step - loss: 0.7757 - accuracy: 0.7538 - val_loss: 1.7745 - val_accuracy: 0.6569\n",
            "Epoch 25/80\n",
            "317/317 [==============================] - 154s 487ms/step - loss: 0.7585 - accuracy: 0.7602 - val_loss: 1.8175 - val_accuracy: 0.6576\n",
            "Epoch 26/80\n",
            "317/317 [==============================] - 162s 511ms/step - loss: 0.7362 - accuracy: 0.7650 - val_loss: 1.6156 - val_accuracy: 0.6908\n",
            "Epoch 27/80\n",
            "317/317 [==============================] - 153s 484ms/step - loss: 0.7208 - accuracy: 0.7691 - val_loss: 1.6193 - val_accuracy: 0.6667\n",
            "Epoch 28/80\n",
            "317/317 [==============================] - 159s 502ms/step - loss: 0.6898 - accuracy: 0.7744 - val_loss: 1.6847 - val_accuracy: 0.6986\n",
            "Epoch 29/80\n",
            "317/317 [==============================] - 157s 494ms/step - loss: 0.6680 - accuracy: 0.7833 - val_loss: 1.6758 - val_accuracy: 0.6810\n",
            "Epoch 30/80\n",
            "317/317 [==============================] - 159s 503ms/step - loss: 0.6523 - accuracy: 0.7845 - val_loss: 1.6259 - val_accuracy: 0.7155\n",
            "Epoch 31/80\n",
            "317/317 [==============================] - 156s 492ms/step - loss: 0.6209 - accuracy: 0.7971 - val_loss: 1.8855 - val_accuracy: 0.6868\n",
            "Epoch 32/80\n",
            "317/317 [==============================] - 158s 497ms/step - loss: 0.6178 - accuracy: 0.7993 - val_loss: 1.7069 - val_accuracy: 0.7064\n",
            "Epoch 33/80\n",
            "317/317 [==============================] - 156s 493ms/step - loss: 0.5916 - accuracy: 0.8074 - val_loss: 1.8578 - val_accuracy: 0.6986\n",
            "Epoch 34/80\n",
            "317/317 [==============================] - 161s 506ms/step - loss: 0.5793 - accuracy: 0.8075 - val_loss: 2.0459 - val_accuracy: 0.6921\n",
            "Epoch 35/80\n",
            "317/317 [==============================] - 162s 510ms/step - loss: 0.5710 - accuracy: 0.8128 - val_loss: 1.9703 - val_accuracy: 0.7012\n",
            "Epoch 36/80\n",
            "317/317 [==============================] - 154s 486ms/step - loss: 0.5559 - accuracy: 0.8168 - val_loss: 1.8998 - val_accuracy: 0.7057\n",
            "Epoch 37/80\n",
            "317/317 [==============================] - 164s 515ms/step - loss: 0.5301 - accuracy: 0.8244 - val_loss: 1.9291 - val_accuracy: 0.7109\n",
            "Epoch 38/80\n",
            "317/317 [==============================] - 163s 513ms/step - loss: 0.5393 - accuracy: 0.8237 - val_loss: 1.8547 - val_accuracy: 0.7142\n",
            "Epoch 39/80\n",
            "317/317 [==============================] - 155s 489ms/step - loss: 0.5102 - accuracy: 0.8312 - val_loss: 1.9065 - val_accuracy: 0.7135\n",
            "Epoch 40/80\n",
            "317/317 [==============================] - 154s 487ms/step - loss: 0.5006 - accuracy: 0.8350 - val_loss: 1.8129 - val_accuracy: 0.7103\n",
            "Epoch 41/80\n",
            "317/317 [==============================] - 164s 518ms/step - loss: 0.4885 - accuracy: 0.8349 - val_loss: 1.8689 - val_accuracy: 0.7279\n",
            "Epoch 42/80\n",
            "317/317 [==============================] - 163s 514ms/step - loss: 0.4774 - accuracy: 0.8381 - val_loss: 2.0054 - val_accuracy: 0.7207\n",
            "Epoch 43/80\n",
            "317/317 [==============================] - 151s 478ms/step - loss: 0.4680 - accuracy: 0.8417 - val_loss: 2.0356 - val_accuracy: 0.6719\n",
            "Epoch 44/80\n",
            "317/317 [==============================] - 154s 485ms/step - loss: 0.4649 - accuracy: 0.8448 - val_loss: 1.8438 - val_accuracy: 0.7350\n",
            "Epoch 45/80\n",
            "317/317 [==============================] - 159s 503ms/step - loss: 0.4493 - accuracy: 0.8486 - val_loss: 2.1694 - val_accuracy: 0.6992\n",
            "Epoch 46/80\n",
            "317/317 [==============================] - 163s 514ms/step - loss: 0.4300 - accuracy: 0.8569 - val_loss: 2.0511 - val_accuracy: 0.7240\n",
            "Epoch 47/80\n",
            "317/317 [==============================] - 162s 510ms/step - loss: 0.4403 - accuracy: 0.8524 - val_loss: 1.8240 - val_accuracy: 0.7331\n",
            "Epoch 48/80\n",
            "317/317 [==============================] - 159s 503ms/step - loss: 0.4447 - accuracy: 0.8520 - val_loss: 2.1331 - val_accuracy: 0.7044\n",
            "Epoch 49/80\n",
            "317/317 [==============================] - 167s 525ms/step - loss: 0.4064 - accuracy: 0.8587 - val_loss: 2.0701 - val_accuracy: 0.7331\n",
            "Epoch 50/80\n",
            "317/317 [==============================] - 155s 490ms/step - loss: 0.4207 - accuracy: 0.8599 - val_loss: 1.9125 - val_accuracy: 0.7220\n",
            "Epoch 51/80\n",
            "317/317 [==============================] - 155s 489ms/step - loss: 0.3869 - accuracy: 0.8672 - val_loss: 1.9940 - val_accuracy: 0.7448\n",
            "Epoch 52/80\n",
            "317/317 [==============================] - 150s 474ms/step - loss: 0.3817 - accuracy: 0.8711 - val_loss: 2.2014 - val_accuracy: 0.7005\n",
            "Epoch 53/80\n",
            "317/317 [==============================] - 159s 502ms/step - loss: 0.3847 - accuracy: 0.8682 - val_loss: 2.1474 - val_accuracy: 0.7383\n",
            "Epoch 54/80\n",
            "317/317 [==============================] - 160s 503ms/step - loss: 0.3835 - accuracy: 0.8723 - val_loss: 2.1925 - val_accuracy: 0.7246\n",
            "Epoch 55/80\n",
            "317/317 [==============================] - 157s 494ms/step - loss: 0.3667 - accuracy: 0.8777 - val_loss: 2.1479 - val_accuracy: 0.7298\n",
            "Epoch 56/80\n",
            "317/317 [==============================] - 154s 486ms/step - loss: 0.3570 - accuracy: 0.8773 - val_loss: 2.2258 - val_accuracy: 0.7396\n",
            "Epoch 57/80\n",
            "317/317 [==============================] - 152s 478ms/step - loss: 0.3818 - accuracy: 0.8731 - val_loss: 2.3004 - val_accuracy: 0.7266\n",
            "Epoch 58/80\n",
            "317/317 [==============================] - 148s 467ms/step - loss: 0.3656 - accuracy: 0.8732 - val_loss: 2.0392 - val_accuracy: 0.7467\n",
            "Epoch 59/80\n",
            "317/317 [==============================] - 157s 493ms/step - loss: 0.3528 - accuracy: 0.8826 - val_loss: 2.1905 - val_accuracy: 0.7428\n",
            "Epoch 60/80\n",
            "317/317 [==============================] - 158s 496ms/step - loss: 0.3342 - accuracy: 0.8843 - val_loss: 2.2207 - val_accuracy: 0.7520\n",
            "Epoch 61/80\n",
            "317/317 [==============================] - 149s 470ms/step - loss: 0.3225 - accuracy: 0.8899 - val_loss: 2.1242 - val_accuracy: 0.7370\n",
            "Epoch 62/80\n",
            "317/317 [==============================] - 146s 460ms/step - loss: 0.3378 - accuracy: 0.8843 - val_loss: 2.2676 - val_accuracy: 0.7272\n",
            "Epoch 63/80\n",
            "317/317 [==============================] - 147s 463ms/step - loss: 0.3228 - accuracy: 0.8887 - val_loss: 2.3491 - val_accuracy: 0.7637\n",
            "Epoch 64/80\n",
            "317/317 [==============================] - 145s 457ms/step - loss: 0.3046 - accuracy: 0.8978 - val_loss: 2.2808 - val_accuracy: 0.7526\n",
            "Epoch 65/80\n",
            "317/317 [==============================] - 154s 485ms/step - loss: 0.3351 - accuracy: 0.8846 - val_loss: 2.3722 - val_accuracy: 0.7474\n",
            "Epoch 66/80\n",
            "317/317 [==============================] - 152s 480ms/step - loss: 0.3266 - accuracy: 0.8890 - val_loss: 2.0988 - val_accuracy: 0.7363\n",
            "Epoch 67/80\n",
            "317/317 [==============================] - 151s 476ms/step - loss: 0.3151 - accuracy: 0.8936 - val_loss: 2.1279 - val_accuracy: 0.7474\n",
            "Epoch 68/80\n",
            "317/317 [==============================] - 153s 484ms/step - loss: 0.3307 - accuracy: 0.8862 - val_loss: 2.2701 - val_accuracy: 0.7559\n",
            "Epoch 69/80\n",
            "317/317 [==============================] - 152s 479ms/step - loss: 0.3064 - accuracy: 0.8930 - val_loss: 2.1423 - val_accuracy: 0.7578\n",
            "Epoch 70/80\n",
            "317/317 [==============================] - 149s 469ms/step - loss: 0.2996 - accuracy: 0.8956 - val_loss: 2.2484 - val_accuracy: 0.7487\n",
            "Epoch 71/80\n",
            "317/317 [==============================] - 155s 489ms/step - loss: 0.2867 - accuracy: 0.9000 - val_loss: 2.4008 - val_accuracy: 0.7383\n",
            "Epoch 72/80\n",
            "317/317 [==============================] - 148s 467ms/step - loss: 0.3043 - accuracy: 0.8935 - val_loss: 2.3171 - val_accuracy: 0.7695\n",
            "Epoch 73/80\n",
            "317/317 [==============================] - 159s 501ms/step - loss: 0.3084 - accuracy: 0.8944 - val_loss: 2.2816 - val_accuracy: 0.7643\n",
            "Epoch 74/80\n",
            "317/317 [==============================] - 156s 492ms/step - loss: 0.2937 - accuracy: 0.8993 - val_loss: 2.2149 - val_accuracy: 0.7520\n",
            "Epoch 75/80\n",
            "317/317 [==============================] - 151s 477ms/step - loss: 0.2899 - accuracy: 0.9025 - val_loss: 2.4274 - val_accuracy: 0.7383\n",
            "Epoch 76/80\n",
            "317/317 [==============================] - 150s 473ms/step - loss: 0.2893 - accuracy: 0.9034 - val_loss: 2.3647 - val_accuracy: 0.7663\n",
            "Epoch 77/80\n",
            "317/317 [==============================] - 149s 468ms/step - loss: 0.2913 - accuracy: 0.9009 - val_loss: 2.5121 - val_accuracy: 0.7402\n",
            "Epoch 78/80\n",
            "317/317 [==============================] - 149s 470ms/step - loss: 0.2853 - accuracy: 0.9017 - val_loss: 2.4049 - val_accuracy: 0.7585\n",
            "Epoch 79/80\n",
            "317/317 [==============================] - 163s 513ms/step - loss: 0.2535 - accuracy: 0.9128 - val_loss: 2.2408 - val_accuracy: 0.7617\n",
            "Epoch 80/80\n",
            "317/317 [==============================] - 163s 513ms/step - loss: 0.2947 - accuracy: 0.8975 - val_loss: 2.3630 - val_accuracy: 0.7513\n"
          ]
        }
      ],
      "source": [
        "# Train the model\n",
        "history = model.fit(\n",
        "    train_generator,\n",
        "    steps_per_epoch=train_generator.samples // train_generator.batch_size,\n",
        "    epochs=80,\n",
        "    validation_data=validation_generator,\n",
        "    validation_steps=validation_generator.samples // validation_generator.batch_size\n",
        ")"
      ]
    },
    {
      "cell_type": "code",
      "execution_count": null,
      "metadata": {
        "id": "L2dCVe4xvuhH"
      },
      "outputs": [],
      "source": [
        "# Save the model to Google Drive\n",
        "model.save('/content/drive/My Drive/path/to/save/model80.h5')\n",
        "\n",
        "# Save the model to Google Drive\n",
        "model.save('/content/drive/My Drive/path/to/save/my_model80.keras')"
      ]
    },
    {
      "cell_type": "code",
      "execution_count": null,
      "metadata": {
        "id": "r_iqmlAY0rcK"
      },
      "outputs": [],
      "source": [
        "model.save('my_model100.keras')"
      ]
    },
    {
      "cell_type": "code",
      "execution_count": null,
      "metadata": {
        "id": "b4CObu7Vvd6X"
      },
      "outputs": [],
      "source": [
        "import pandas as pd\n",
        "history_df = pd.DataFrame(history.history)\n",
        "history_df.to_csv('/content/drive/My Drive/path/to/save/training_history80.csv', index=False)"
      ]
    },
    {
      "cell_type": "markdown",
      "metadata": {
        "id": "KhStVj5pUo1L"
      },
      "source": [
        "#reload my model\n"
      ]
    },
    {
      "cell_type": "code",
      "execution_count": null,
      "metadata": {
        "id": "FmRRt5y7Urvc"
      },
      "outputs": [],
      "source": [
        "from tensorflow.keras.models import load_model\n",
        "\n",
        "# Path to the saved model on Google Drive\n",
        "saved_model_path = '/content/drive/My Drive/path/to/save/model10.h5'\n",
        "\n",
        "# Load the saved model\n",
        "model = load_model(saved_model_path)"
      ]
    },
    {
      "cell_type": "markdown",
      "metadata": {
        "id": "mzkQ2wxxUur8"
      },
      "source": [
        "# find accuracy"
      ]
    },
    {
      "cell_type": "code",
      "execution_count": null,
      "metadata": {
        "id": "LraI_Q7dJnkm",
        "colab": {
          "base_uri": "https://localhost:8080/"
        },
        "outputId": "1b626b76-eeda-48f2-f473-7e0fc2c33369"
      },
      "outputs": [
        {
          "output_type": "stream",
          "name": "stdout",
          "text": [
            " 99/318 [========>.....................] - ETA: 1:16 - loss: 0.2222 - accuracy: 0.9230"
          ]
        },
        {
          "output_type": "stream",
          "name": "stderr",
          "text": [
            "/usr/local/lib/python3.10/dist-packages/PIL/Image.py:996: UserWarning: Palette images with Transparency expressed in bytes should be converted to RGBA images\n",
            "  warnings.warn(\n"
          ]
        },
        {
          "output_type": "stream",
          "name": "stdout",
          "text": [
            "318/318 [==============================] - 105s 331ms/step - loss: 0.2258 - accuracy: 0.9207\n",
            "Training accuracy: 0.9206693172454834\n"
          ]
        }
      ],
      "source": [
        "#Training set Accuracy\n",
        "train_loss, train_acc = model.evaluate(train_generator)\n",
        "print('Training accuracy:', train_acc)"
      ]
    },
    {
      "cell_type": "code",
      "execution_count": null,
      "metadata": {
        "id": "L6QBO8BeYWoX",
        "colab": {
          "base_uri": "https://localhost:8080/"
        },
        "outputId": "629b6245-6391-4205-fdce-b0cd45bdfa33"
      },
      "outputs": [
        {
          "output_type": "stream",
          "name": "stdout",
          "text": [
            "49/49 [==============================] - 14s 293ms/step - loss: 2.3711 - accuracy: 0.7495\n",
            "Validation accuracy: 0.7495158314704895\n"
          ]
        }
      ],
      "source": [
        "#Validation set Accuracy\n",
        "val_loss, val_acc = model.evaluate(validation_generator)\n",
        "print('Validation accuracy:', val_acc)"
      ]
    },
    {
      "cell_type": "code",
      "execution_count": null,
      "metadata": {
        "id": "jv_6niAYZ3hn"
      },
      "outputs": [],
      "source": []
    },
    {
      "cell_type": "markdown",
      "metadata": {
        "id": "NTEZDOP7Z8Rj"
      },
      "source": [
        "#testing\n"
      ]
    },
    {
      "cell_type": "code",
      "execution_count": null,
      "metadata": {
        "id": "6dAebMNsajyA"
      },
      "outputs": [],
      "source": [
        "test_datagen = ImageDataGenerator(rescale=1./255)\n",
        "\n",
        "test_generator = test_datagen.flow_from_directory(\n",
        "    '/content/drive/MyDrive/updated data set/Validation',\n",
        "    target_size=(64, 64),\n",
        "    batch_size=32,\n",
        "    class_mode='categorical',\n",
        "    shuffle=False  # Set to False to keep the order of predictions\n",
        ")\n"
      ]
    },
    {
      "cell_type": "code",
      "execution_count": null,
      "metadata": {
        "id": "5OJ0uTMn1fym"
      },
      "outputs": [],
      "source": [
        "# Evaluate the model on the test data\n",
        "results = model.evaluate(test_generator)\n",
        "\n",
        "print(\"Test Loss:\", results[0])\n",
        "print(\"Test Accuracy:\", results[1])"
      ]
    },
    {
      "cell_type": "markdown",
      "metadata": {
        "id": "6eYn1MA-bmuR"
      },
      "source": [
        "#prediction\n"
      ]
    },
    {
      "cell_type": "code",
      "execution_count": null,
      "metadata": {
        "colab": {
          "base_uri": "https://localhost:8080/"
        },
        "id": "dtsQSfQobpIi",
        "outputId": "8c98a5a6-4c12-4e42-a4dd-6e45d9fbf425"
      },
      "outputs": [
        {
          "output_type": "stream",
          "name": "stdout",
          "text": [
            "1/1 [==============================] - 0s 22ms/step\n",
            "Predicted Class: 7\n"
          ]
        }
      ],
      "source": [
        "import numpy as np\n",
        "from tensorflow.keras.preprocessing import image\n",
        "\n",
        "# Path to the image you want to predict\n",
        "img_path = '/content/download.jpg'\n",
        "\n",
        "# Load and preprocess the image\n",
        "img = image.load_img(img_path, target_size=(64, 64))\n",
        "img_array = image.img_to_array(img)\n",
        "img_array = np.expand_dims(img_array, axis=0)\n",
        "img_array = img_array / 255.0  # Normalize\n",
        "\n",
        "# Make a prediction\n",
        "prediction = model.predict(img_array)\n",
        "\n",
        "# Get the predicted class\n",
        "predicted_class = np.argmax(prediction)\n",
        "\n",
        "# Print the predicted class\n",
        "print(\"Predicted Class:\", predicted_class)\n",
        "\n",
        "\n"
      ]
    },
    {
      "cell_type": "code",
      "execution_count": null,
      "metadata": {
        "colab": {
          "base_uri": "https://localhost:8080/"
        },
        "id": "ghv8g0Dhd2FW",
        "outputId": "dfb3b98e-a678-4ba1-8360-0e95a1630662"
      },
      "outputs": [
        {
          "output_type": "stream",
          "name": "stdout",
          "text": [
            "Found 1549 files belonging to 46 classes.\n"
          ]
        }
      ],
      "source": [
        "test_set = tf.keras.utils.image_dataset_from_directory(\n",
        "    '/content/drive/MyDrive/updated data set/Validation',\n",
        "    labels=\"inferred\",\n",
        "    label_mode=\"categorical\",\n",
        "    class_names=None,\n",
        "    color_mode=\"rgb\",\n",
        "    batch_size=32,\n",
        "    image_size=(64, 64),\n",
        "    shuffle=True,\n",
        "    seed=None,\n",
        "    validation_split=None,\n",
        "    subset=None,\n",
        "    interpolation=\"bilinear\",\n",
        "    follow_links=False,\n",
        "    crop_to_aspect_ratio=False\n",
        ")"
      ]
    },
    {
      "cell_type": "code",
      "execution_count": null,
      "metadata": {
        "colab": {
          "base_uri": "https://localhost:8080/"
        },
        "id": "yQpiu8xceeRM",
        "outputId": "16ce308e-fdfa-40b1-dece-fc970b3345a7"
      },
      "outputs": [
        {
          "output_type": "stream",
          "name": "stdout",
          "text": [
            "It's a Fresh Cucumber\n"
          ]
        }
      ],
      "source": [
        "print(\"It's a {}\".format(test_set.class_names[predicted_class]))"
      ]
    },
    {
      "cell_type": "markdown",
      "source": [
        "summa load"
      ],
      "metadata": {
        "id": "tL_cdJpBBu3E"
      }
    },
    {
      "cell_type": "code",
      "source": [
        "from tensorflow.keras.models import load_model\n",
        "\n",
        "# Path to the saved model on Google Drive\n",
        "saved_model_path = '/content/drive/My Drive/path/to/save/model80.h5'\n",
        "\n",
        "# Load the saved model\n",
        "model2 = load_model(saved_model_path)"
      ],
      "metadata": {
        "id": "jLhbNH-KBt1_"
      },
      "execution_count": null,
      "outputs": []
    },
    {
      "cell_type": "code",
      "source": [
        "import numpy as np\n",
        "from tensorflow.keras.preprocessing import image\n",
        "\n",
        "# Path to the image you want to predict\n",
        "img_path = '/content/download.jpg'\n",
        "\n",
        "# Load and preprocess the image\n",
        "img = image.load_img(img_path, target_size=(64, 64))\n",
        "img_array = image.img_to_array(img)\n",
        "img_array = np.expand_dims(img_array, axis=0)\n",
        "img_array = img_array / 255.0  # Normalize\n",
        "\n",
        "# Make a prediction\n",
        "prediction = model2.predict(img_array)\n",
        "\n",
        "# Get the predicted class\n",
        "predicted_class = np.argmax(prediction)\n",
        "\n",
        "# Print the predicted class\n",
        "print(\"Predicted Class:\", predicted_class)"
      ],
      "metadata": {
        "colab": {
          "base_uri": "https://localhost:8080/"
        },
        "id": "e8kOMhgmBt4C",
        "outputId": "cc5aabb2-6474-4102-d694-3783220db5d9"
      },
      "execution_count": null,
      "outputs": [
        {
          "output_type": "stream",
          "name": "stdout",
          "text": [
            "1/1 [==============================] - 0s 79ms/step\n",
            "Predicted Class: 20\n"
          ]
        }
      ]
    },
    {
      "cell_type": "code",
      "source": [
        "test_set = tf.keras.utils.image_dataset_from_directory(\n",
        "    '/content/drive/MyDrive/updated data set/Validation',\n",
        "    labels=\"inferred\",\n",
        "    label_mode=\"categorical\",\n",
        "    class_names=None,\n",
        "    color_mode=\"rgb\",\n",
        "    batch_size=32,\n",
        "    image_size=(64, 64),\n",
        "    shuffle=True,\n",
        "    seed=None,\n",
        "    validation_split=None,\n",
        "    subset=None,\n",
        "    interpolation=\"bilinear\",\n",
        "    follow_links=False,\n",
        "    crop_to_aspect_ratio=False\n",
        ")"
      ],
      "metadata": {
        "colab": {
          "base_uri": "https://localhost:8080/"
        },
        "id": "6uP5Q8u1Bt7a",
        "outputId": "1783fbe5-cb6e-4a9d-f8b5-17f8807678de"
      },
      "execution_count": null,
      "outputs": [
        {
          "output_type": "stream",
          "name": "stdout",
          "text": [
            "Found 1549 files belonging to 46 classes.\n"
          ]
        }
      ]
    },
    {
      "cell_type": "code",
      "source": [
        "print(\"It's a {}\".format(test_set.class_names[predicted_class]))"
      ],
      "metadata": {
        "colab": {
          "base_uri": "https://localhost:8080/"
        },
        "id": "N_JISOzMCBIQ",
        "outputId": "914786a1-c044-416b-b8a6-6175a670ef12"
      },
      "execution_count": null,
      "outputs": [
        {
          "output_type": "stream",
          "name": "stdout",
          "text": [
            "It's a Rotten Cucumber\n"
          ]
        }
      ]
    }
  ],
  "metadata": {
    "colab": {
      "provenance": []
    },
    "kernelspec": {
      "display_name": "Python 3",
      "name": "python3"
    },
    "language_info": {
      "name": "python"
    }
  },
  "nbformat": 4,
  "nbformat_minor": 0
}